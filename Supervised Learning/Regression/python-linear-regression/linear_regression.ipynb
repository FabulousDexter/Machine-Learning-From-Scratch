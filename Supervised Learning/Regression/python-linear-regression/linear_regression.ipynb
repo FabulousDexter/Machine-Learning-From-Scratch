{
 "cells": [
  {
   "cell_type": "code",
   "execution_count": null,
   "id": "af3b429e",
   "metadata": {},
   "outputs": [],
   "source": [
    "import numpy as np\n",
    "import matplotlib.pyplot as plt\n",
    "import pandas as pd"
   ]
  },
  {
   "cell_type": "code",
   "execution_count": null,
   "id": "00c9e463",
   "metadata": {},
   "outputs": [],
   "source": [
    "# Load the dataset\n",
    "path = \"C:/dataset\"\n",
    "training_set = pd.read_csv(f'{path}/Salary_dataset.csv')\n",
    "\n",
    "# Display the first few rows of the dataset\n",
    "print(training_set.head())\n",
    "\n",
    "# Extracting the independent variable (Years of Experience) and dependent variable (Salary)\n",
    "x_train = training_set.iloc[:, 1].values  # All rows, all columns except the last (features)\n",
    "y_train = training_set.iloc[:, -1].values   # All rows, only the last column (target variable)\n",
    "\n",
    "#Display the extracted features and target variable\n",
    "print(\"\\n Dataset Info:\")\n",
    "print(\"Features (X_train):\")\n",
    "print(x_train)\n",
    "print(\"\\nTarget variable (y_train):\")\n",
    "print(y_train)"
   ]
  },
  {
   "cell_type": "code",
   "execution_count": null,
   "id": "84e86e68",
   "metadata": {},
   "outputs": [],
   "source": [
    "# Visualizing the dataset\n",
    "plt.scatter(x_train, y_train, color='blue')\n",
    "plt.title('Salary vs Years of Experience')\n",
    "plt.xlabel('Years of Experience')\n",
    "plt.ylabel('Salary')\n",
    "plt.show()"
   ]
  },
  {
   "cell_type": "code",
   "execution_count": null,
   "id": "0b6d03cd",
   "metadata": {},
   "outputs": [],
   "source": [
    "# Cost function implementation\n",
    "def cost_function(x, y, w, b):\n",
    "    n = len(x)\n",
    "    cost_sum = 0\n",
    "\n",
    "    for i in range(n):\n",
    "        f = w * x[i] + b\n",
    "        cost = (f - y[i]) ** 2\n",
    "        cost_sum += cost\n",
    "    \n",
    "    total_cost = cost_sum / (2 * n)\n",
    "    return total_cost\n"
   ]
  },
  {
   "cell_type": "code",
   "execution_count": null,
   "id": "6b075b0e",
   "metadata": {},
   "outputs": [],
   "source": [
    "# Gradient function implementation\n",
    "def gradian_function(x, y, w, b):\n",
    "    n = len(x)\n",
    "    dc_dw = 0\n",
    "    dc_db = 0\n",
    "\n",
    "    for i in range(n):\n",
    "        f = w * x[i] + b\n",
    "\n",
    "        dc_dw += (f - y[i]) * x[i]\n",
    "        dc_db += (f - y[i])\n",
    "\n",
    "    dc_dw = (1/n) * dc_dw\n",
    "    dc_db = (1/n) * dc_db\n",
    "\n",
    "    return dc_dw, dc_db"
   ]
  },
  {
   "cell_type": "code",
   "execution_count": null,
   "id": "991b647f",
   "metadata": {},
   "outputs": [],
   "source": [
    "# Gradient Descent implementation\n",
    "def gradient_descent(x, y, alpha, iterations):\n",
    "    w = 0\n",
    "    b = 0\n",
    "\n",
    "    for i in range(iterations):\n",
    "        dc_dw, dc_db = gradian_function(x, y, w, b)\n",
    "\n",
    "        w = w - alpha * dc_dw\n",
    "        b = b - alpha * dc_db\n",
    "\n",
    "        print(f\"Iteration {i}: Cost: {cost_function(x, y, w, b)}\")\n",
    "\n",
    "    return w, b"
   ]
  },
  {
   "cell_type": "code",
   "execution_count": null,
   "id": "20072344",
   "metadata": {},
   "outputs": [],
   "source": [
    "# Hyperparameters\n",
    "iterations = 10000\n",
    "alpha = 0.01\n",
    "\n",
    "final_w, final_b = gradient_descent(x_train, y_train, alpha, iterations)\n",
    "print(f\"Final weight (w): {final_w}, Final bias (b): {final_b}\")"
   ]
  },
  {
   "cell_type": "code",
   "execution_count": null,
   "id": "100e03f2",
   "metadata": {},
   "outputs": [],
   "source": [
    "# Visualizing the regression line\n",
    "plt.scatter(x_train, y_train, color='blue', label='Training data')\n",
    "\n",
    "x_vals = np.linspace(min(x_train), max(x_train), 100)\n",
    "y_vals = final_w * x_vals + final_b\n",
    "plt.plot(x_vals, y_vals, color='red', label='Regression line')\n",
    "\n",
    "plt.title('Linear Regression Fit')\n",
    "plt.xlabel('Years of Experience')\n",
    "plt.ylabel('Salary')\n",
    "plt.legend()\n",
    "plt.show()"
   ]
  },
  {
   "cell_type": "code",
   "execution_count": null,
   "id": "6b888401",
   "metadata": {},
   "outputs": [],
   "source": [
    "# Making prediction for a specific input\n",
    "years_of_experience = 5.5\n",
    "predicted_salary = final_w * years_of_experience + final_b\n",
    "print(f\"Predicted salary for {years_of_experience} years of experience: {predicted_salary:.2f}\")"
   ]
  }
 ],
 "metadata": {
  "kernelspec": {
   "display_name": "Python 3 (ipykernel)",
   "language": "python",
   "name": "python3"
  },
  "language_info": {
   "codemirror_mode": {
    "name": "ipython",
    "version": 3
   },
   "file_extension": ".py",
   "mimetype": "text/x-python",
   "name": "python",
   "nbconvert_exporter": "python",
   "pygments_lexer": "ipython3",
   "version": "3.9.23"
  }
 },
 "nbformat": 4,
 "nbformat_minor": 5
}
