{
 "cells": [
  {
   "cell_type": "code",
   "execution_count": 2,
   "id": "d4d30bd5",
   "metadata": {},
   "outputs": [
    {
     "name": "stdout",
     "output_type": "stream",
     "text": [
      "CuPy available - Using GPU acceleration\n"
     ]
    }
   ],
   "source": [
    "import numpy as np\n",
    "import matplotlib.pyplot as plt\n",
    "try:\n",
    "    import cupy as cp\n",
    "    print(\"CuPy available - Using GPU acceleration\")\n",
    "    xp = cp\n",
    "except ImportError:\n",
    "    print(\"CuPy not available - Using CPU (NumPy)\")\n",
    "    xp = np"
   ]
  },
  {
   "cell_type": "code",
   "execution_count": 45,
   "id": "25e8fdfd",
   "metadata": {},
   "outputs": [
    {
     "name": "stdout",
     "output_type": "stream",
     "text": [
      "    Created weights from layer 0 to 1 with shape: (2, 3)\n",
      "    Created biases for layer 1 with shape: (1, 3)\n",
      "    Created weights from layer 1 to 2 with shape: (3, 1)\n",
      "    Created biases for layer 2 with shape: (1, 1)\n",
      "\n",
      "--- Inspecting Weights ---\n",
      "Weights for connection 0: \n",
      "[[-0.07049857  0.26069659 -1.89437657]\n",
      " [ 1.27518189  0.09194801 -1.08696119]]\n",
      "Weights for connection 1: \n",
      "[[ 0.80039604]\n",
      " [-2.33162977]\n",
      " [-0.86238894]]\n",
      "\n",
      "--- Inspecting Biases ---\n",
      "Biases for layer 1: \n",
      "[[0. 0. 0.]]\n",
      "Biases for layer 2: \n",
      "[[0.]]\n"
     ]
    }
   ],
   "source": [
    "class NeuralNetwork:\n",
    "    def __init__(self, layer_sizes, use_gpu=False, activation_method='relu'):\n",
    "        self.weights = []\n",
    "        self.biases = []\n",
    "        self.layer_sizes = layer_sizes\n",
    "        self.xp = xp if use_gpu else np\n",
    "        self.activation_method = activation_method\n",
    "\n",
    "        for i in range((len(self.layer_sizes)) - 1):\n",
    "            if activation_method == 'relu':\n",
    "                scale = self.xp.sqrt(2.0 / self.layer_sizes[i])\n",
    "            elif activation_method == 'sigmoid':\n",
    "                scale = self.xp.sqrt(1.0 / self.layer_sizes[i])\n",
    "            w = self.xp.random.randn(self.layer_sizes[i], layer_sizes[i + 1]) * scale\n",
    "            self.weights.append(w)\n",
    "            b = self.xp.zeros((1, self.layer_sizes[i + 1]))\n",
    "            self.biases.append(b)\n",
    "\n",
    "            print(f\"    Created weights from layer {i} to {i + 1} with shape: {w.shape}\")\n",
    "            print(f\"    Created biases for layer {i + 1} with shape: {b.shape}\")\n",
    "    \n",
    "    def sigmoid(self, x):\n",
    "        return 1 / (1 + self.xp.exp(-self.xp.clip(x, -500, 500)))\n",
    "    \n",
    "    def sigmoid_derivative(self, x):\n",
    "        return x * (1 - x)\n",
    "    \n",
    "    def relu(self, x):\n",
    "        return self.xp.maximum(0, x)\n",
    "    \n",
    "    def relu_derivative(self, X):\n",
    "        return (X > 0).astype(float)\n",
    "    \n",
    "    def forward(self, X):\n",
    "        \"\"\"Forward propagation\"\"\" \n",
    "        activation = X\n",
    "        for i in range(len(self.weights)):\n",
    "            z = activation @ self.weights[i] + self.biases[i]\n",
    "            activation = self.sigmoid(z)\n",
    "        return activation\n",
    "    \n",
    "    def forward_with_activation(self, X, activation_method='relu'):\n",
    "        \"\"\"forward pass with relu for hidden layers, sigmoid for output\"\"\"\n",
    "        activation = X\n",
    "        activations = [X]\n",
    "\n",
    "        #Hidden layers: using relu\n",
    "        for i in range(len(self.weights) - 1):\n",
    "            z = activation @ self.weights[i] + self.biases[i]\n",
    "            \n",
    "            if activation_method == 'relu':\n",
    "                activation = self.relu(z)\n",
    "            elif activation_method == 'sigmoid':\n",
    "                activation = self.sigmoid(z)\n",
    "            else:\n",
    "                raise ValueError(f\"Unknown activation method {activation_method}\")\n",
    "            activations.append(activation)\n",
    "        \n",
    "        #Output layer always uses sigmoid for classification\n",
    "        z = activation @ self.weights[-1] + self.biases[-1]\n",
    "        activation = self.sigmoid(z)\n",
    "        activations.append(activation)\n",
    "\n",
    "        return activation, activations\n",
    "\n",
    "    def backward_with_activation(self, activations, delta, lr=0.1, activation_method='relu'):\n",
    "        m = activations[0].shape[0]\n",
    "        \n",
    "        for i in range(len(self.weights) - 1, -1, -1):\n",
    "            dw = activations[i].T @ delta / m\n",
    "            db = self.xp.sum(delta, axis=0, keepdims=True) / m\n",
    "\n",
    "            #Update parameters\n",
    "            self.weights[i] = self.weights[i] - lr * dw\n",
    "            self.biases[i] = self.biases[i] - lr * db\n",
    "\n",
    "            if i > 0:\n",
    "                if activation_method == 'relu':\n",
    "                    delta = (delta @ self.weights[i].T) * self.relu_derivative(activations[i])\n",
    "                elif activation_method == 'sigmoid':\n",
    "                    delta = (delta @ self.weights[i].T) * self.sigmoid_derivative(activations[i])\n",
    "    \n",
    "    def predict(self, X, activation_method='relu'):\n",
    "        \"\"\"Make prediction\"\"\"\n",
    "        if self.xp != np:\n",
    "            X = self.xp.asarray(X)\n",
    "        output, _ = self.forward_with_activation(X, activation_method=activation_method)\n",
    "        if self.xp != np:\n",
    "            output = self.xp.asnumpy(output)\n",
    "        return output\n",
    "    \n",
    "    def train(self, X, y, epochs=100, lr=0.1, batch_size=None, activation_method='relu', verbose=True):\n",
    "        if self.xp != np:\n",
    "            X = self.xp.asarray(X)\n",
    "            y = self.xp.asarray(y)\n",
    "\n",
    "        losses = []\n",
    "        n_samples = X.shape[0]\n",
    "\n",
    "        use_minibatch = batch_size is not None and batch_size < n_samples\n",
    "        n_batches = n_samples // batch_size if use_minibatch else 1\n",
    "\n",
    "        for epoch in range(epochs):\n",
    "            epoch_loss = 0\n",
    "\n",
    "            if use_minibatch:\n",
    "                #Shuffle data\n",
    "                indices = self.xp.random.permutation(n_samples)\n",
    "                X_shuffled = X[indices]\n",
    "                y_shuffled = y[indices]\n",
    "            else:\n",
    "                X_shuffled = X\n",
    "                y_shuffled = y\n",
    "\n",
    "            for i in range(n_batches):\n",
    "                if use_minibatch: \n",
    "                    start = i * batch_size\n",
    "                    end = start + batch_size\n",
    "                    X_batch = X_shuffled[start:end]\n",
    "                    y_batch = y_shuffled[start:end]\n",
    "                else:\n",
    "                    X_batch = X_shuffled\n",
    "                    y_batch = y_shuffled\n",
    "\n",
    "                #Forward pass\n",
    "                output, activations = self.forward_with_activation(X_batch, activation_method=activation_method)\n",
    "\n",
    "                #Compute loss\n",
    "                batch_loss = float(self.xp.mean((output - y_batch) ** 2))\n",
    "                epoch_loss += batch_loss\n",
    "\n",
    "                #Backward loss\n",
    "                delta = output - y_batch\n",
    "                self.backward_with_activation(activations, delta, lr, activation_method=activation_method)\n",
    "\n",
    "            avg_loss = epoch_loss / n_batches\n",
    "            losses.append(avg_loss)\n",
    "            \n",
    "            if verbose and (epoch % 10 == 0 or epoch == epochs - 1):\n",
    "                print(f\"Epoch {epoch}/{epochs}, Loss: {avg_loss:.6f}\")\n",
    "    \n",
    "        return losses\n",
    "\n",
    "\n",
    "nn = NeuralNetwork(layer_sizes=[2, 3, 1])\n",
    "print(\"\\n--- Inspecting Weights ---\")\n",
    "for i, w in enumerate(nn.weights):\n",
    "    print(f\"Weights for connection {i}: \\n{w}\")\n",
    "\n",
    "print(\"\\n--- Inspecting Biases ---\")\n",
    "for i, b in enumerate(nn.biases):\n",
    "    print(f\"Biases for layer {i + 1}: \\n{b}\")\n",
    "        "
   ]
  },
  {
   "cell_type": "code",
   "execution_count": 4,
   "id": "cce81fba",
   "metadata": {},
   "outputs": [],
   "source": [
    "from sklearn.datasets import load_iris\n",
    "from sklearn.model_selection import train_test_split\n",
    "from sklearn.preprocessing import StandardScaler"
   ]
  },
  {
   "cell_type": "code",
   "execution_count": 5,
   "id": "e22403b2",
   "metadata": {},
   "outputs": [
    {
     "data": {
      "text/plain": [
       "150"
      ]
     },
     "execution_count": 5,
     "metadata": {},
     "output_type": "execute_result"
    }
   ],
   "source": [
    "iris = load_iris()\n",
    "X = iris.data\n",
    "y = iris.target\n",
    "len(y)"
   ]
  },
  {
   "cell_type": "code",
   "execution_count": 6,
   "id": "a2d7b45a",
   "metadata": {},
   "outputs": [
    {
     "name": "stdout",
     "output_type": "stream",
     "text": [
      "X shape: (150, 4)\n",
      "y shape: (150, 3)\n"
     ]
    }
   ],
   "source": [
    "y_onehot = np.zeros((len(y), 3))\n",
    "for i in range(len(y)):\n",
    "    y_onehot[i, y[i]] = 1\n",
    "print(f\"X shape: {X.shape}\")  # (150, 4)\n",
    "print(f\"y shape: {y_onehot.shape}\")  # (150, 3)"
   ]
  },
  {
   "cell_type": "code",
   "execution_count": 7,
   "id": "2f8d202a",
   "metadata": {},
   "outputs": [
    {
     "name": "stdout",
     "output_type": "stream",
     "text": [
      "\n",
      "Training set: (120, 4)\n",
      "Test set: (30, 4)\n"
     ]
    }
   ],
   "source": [
    "scaler = StandardScaler()\n",
    "X = scaler.fit_transform(X)\n",
    "\n",
    "X_train, X_test, y_train, y_test = train_test_split(X, y_onehot, test_size=0.2, random_state=42)\n",
    "\n",
    "print(f\"\\nTraining set: {X_train.shape}\")\n",
    "print(f\"Test set: {X_test.shape}\")"
   ]
  },
  {
   "cell_type": "code",
   "execution_count": 8,
   "id": "950f4696",
   "metadata": {},
   "outputs": [
    {
     "name": "stdout",
     "output_type": "stream",
     "text": [
      "=== Creating Neural Network ===\n",
      "    Created weights from layer 0 to 1 with shape: (4, 8)\n",
      "    Created biases for layer 1 with shape: (1, 8)\n",
      "    Created weights from layer 1 to 2 with shape: (8, 3)\n",
      "    Created biases for layer 2 with shape: (1, 3)\n",
      "=== Training ===\n",
      "Epoch 0/2000, Loss: 0.214979\n",
      "Epoch 10/2000, Loss: 0.113346\n",
      "Epoch 20/2000, Loss: 0.097782\n",
      "Epoch 30/2000, Loss: 0.080996\n",
      "Epoch 40/2000, Loss: 0.070840\n",
      "Epoch 50/2000, Loss: 0.062697\n",
      "Epoch 60/2000, Loss: 0.058805\n",
      "Epoch 70/2000, Loss: 0.049263\n",
      "Epoch 80/2000, Loss: 0.048324\n",
      "Epoch 90/2000, Loss: 0.039862\n",
      "Epoch 100/2000, Loss: 0.031374\n",
      "Epoch 110/2000, Loss: 0.030014\n",
      "Epoch 120/2000, Loss: 0.026171\n",
      "Epoch 130/2000, Loss: 0.026378\n",
      "Epoch 140/2000, Loss: 0.025272\n",
      "Epoch 150/2000, Loss: 0.020539\n",
      "Epoch 160/2000, Loss: 0.019360\n",
      "Epoch 170/2000, Loss: 0.021946\n",
      "Epoch 180/2000, Loss: 0.014762\n",
      "Epoch 190/2000, Loss: 0.014028\n",
      "Epoch 200/2000, Loss: 0.017285\n",
      "Epoch 210/2000, Loss: 0.012996\n",
      "Epoch 220/2000, Loss: 0.015583\n",
      "Epoch 230/2000, Loss: 0.018571\n",
      "Epoch 240/2000, Loss: 0.016727\n",
      "Epoch 250/2000, Loss: 0.016214\n",
      "Epoch 260/2000, Loss: 0.015432\n",
      "Epoch 270/2000, Loss: 0.014248\n",
      "Epoch 280/2000, Loss: 0.016923\n",
      "Epoch 290/2000, Loss: 0.016534\n",
      "Epoch 300/2000, Loss: 0.012439\n",
      "Epoch 310/2000, Loss: 0.016778\n",
      "Epoch 320/2000, Loss: 0.009434\n",
      "Epoch 330/2000, Loss: 0.013345\n",
      "Epoch 340/2000, Loss: 0.011216\n",
      "Epoch 350/2000, Loss: 0.013918\n",
      "Epoch 360/2000, Loss: 0.011951\n",
      "Epoch 370/2000, Loss: 0.014448\n",
      "Epoch 380/2000, Loss: 0.014546\n",
      "Epoch 390/2000, Loss: 0.007956\n",
      "Epoch 400/2000, Loss: 0.014060\n",
      "Epoch 410/2000, Loss: 0.007921\n",
      "Epoch 420/2000, Loss: 0.013588\n",
      "Epoch 430/2000, Loss: 0.013075\n",
      "Epoch 440/2000, Loss: 0.011838\n",
      "Epoch 450/2000, Loss: 0.014256\n",
      "Epoch 460/2000, Loss: 0.008128\n",
      "Epoch 470/2000, Loss: 0.008510\n",
      "Epoch 480/2000, Loss: 0.013460\n",
      "Epoch 490/2000, Loss: 0.013787\n",
      "Epoch 500/2000, Loss: 0.012235\n",
      "Epoch 510/2000, Loss: 0.004916\n",
      "Epoch 520/2000, Loss: 0.014294\n",
      "Epoch 530/2000, Loss: 0.010170\n",
      "Epoch 540/2000, Loss: 0.012445\n",
      "Epoch 550/2000, Loss: 0.014382\n",
      "Epoch 560/2000, Loss: 0.012181\n",
      "Epoch 570/2000, Loss: 0.009522\n",
      "Epoch 580/2000, Loss: 0.009725\n",
      "Epoch 590/2000, Loss: 0.009272\n",
      "Epoch 600/2000, Loss: 0.014092\n",
      "Epoch 610/2000, Loss: 0.012152\n",
      "Epoch 620/2000, Loss: 0.005690\n",
      "Epoch 630/2000, Loss: 0.012886\n",
      "Epoch 640/2000, Loss: 0.012699\n",
      "Epoch 650/2000, Loss: 0.011514\n",
      "Epoch 660/2000, Loss: 0.007195\n",
      "Epoch 670/2000, Loss: 0.013647\n",
      "Epoch 680/2000, Loss: 0.012838\n",
      "Epoch 690/2000, Loss: 0.013096\n",
      "Epoch 700/2000, Loss: 0.012467\n",
      "Epoch 710/2000, Loss: 0.006212\n",
      "Epoch 720/2000, Loss: 0.012132\n",
      "Epoch 730/2000, Loss: 0.009635\n",
      "Epoch 740/2000, Loss: 0.010882\n",
      "Epoch 750/2000, Loss: 0.007705\n",
      "Epoch 760/2000, Loss: 0.009638\n",
      "Epoch 770/2000, Loss: 0.010251\n",
      "Epoch 780/2000, Loss: 0.011021\n",
      "Epoch 790/2000, Loss: 0.013132\n",
      "Epoch 800/2000, Loss: 0.013862\n",
      "Epoch 810/2000, Loss: 0.012467\n",
      "Epoch 820/2000, Loss: 0.011359\n",
      "Epoch 830/2000, Loss: 0.011796\n",
      "Epoch 840/2000, Loss: 0.011173\n",
      "Epoch 850/2000, Loss: 0.012391\n",
      "Epoch 860/2000, Loss: 0.008247\n",
      "Epoch 870/2000, Loss: 0.003556\n",
      "Epoch 880/2000, Loss: 0.007126\n",
      "Epoch 890/2000, Loss: 0.013136\n",
      "Epoch 900/2000, Loss: 0.006914\n",
      "Epoch 910/2000, Loss: 0.008541\n",
      "Epoch 920/2000, Loss: 0.007596\n",
      "Epoch 930/2000, Loss: 0.011677\n",
      "Epoch 940/2000, Loss: 0.013240\n",
      "Epoch 950/2000, Loss: 0.012531\n",
      "Epoch 960/2000, Loss: 0.006624\n",
      "Epoch 970/2000, Loss: 0.013208\n",
      "Epoch 980/2000, Loss: 0.008679\n",
      "Epoch 990/2000, Loss: 0.009976\n",
      "Epoch 1000/2000, Loss: 0.008735\n",
      "Epoch 1010/2000, Loss: 0.006846\n",
      "Epoch 1020/2000, Loss: 0.003197\n",
      "Epoch 1030/2000, Loss: 0.011612\n",
      "Epoch 1040/2000, Loss: 0.011513\n",
      "Epoch 1050/2000, Loss: 0.012363\n",
      "Epoch 1060/2000, Loss: 0.007209\n",
      "Epoch 1070/2000, Loss: 0.011949\n",
      "Epoch 1080/2000, Loss: 0.010843\n",
      "Epoch 1090/2000, Loss: 0.006445\n",
      "Epoch 1100/2000, Loss: 0.012424\n",
      "Epoch 1110/2000, Loss: 0.010041\n",
      "Epoch 1120/2000, Loss: 0.007743\n",
      "Epoch 1130/2000, Loss: 0.007033\n",
      "Epoch 1140/2000, Loss: 0.011385\n",
      "Epoch 1150/2000, Loss: 0.011500\n",
      "Epoch 1160/2000, Loss: 0.011431\n",
      "Epoch 1170/2000, Loss: 0.003469\n",
      "Epoch 1180/2000, Loss: 0.012775\n",
      "Epoch 1190/2000, Loss: 0.012098\n",
      "Epoch 1200/2000, Loss: 0.010644\n",
      "Epoch 1210/2000, Loss: 0.011583\n",
      "Epoch 1220/2000, Loss: 0.011258\n",
      "Epoch 1230/2000, Loss: 0.012447\n",
      "Epoch 1240/2000, Loss: 0.012720\n",
      "Epoch 1250/2000, Loss: 0.007488\n",
      "Epoch 1260/2000, Loss: 0.012320\n",
      "Epoch 1270/2000, Loss: 0.005472\n",
      "Epoch 1280/2000, Loss: 0.012670\n",
      "Epoch 1290/2000, Loss: 0.011805\n",
      "Epoch 1300/2000, Loss: 0.012276\n",
      "Epoch 1310/2000, Loss: 0.006502\n",
      "Epoch 1320/2000, Loss: 0.006730\n",
      "Epoch 1330/2000, Loss: 0.010721\n",
      "Epoch 1340/2000, Loss: 0.010763\n",
      "Epoch 1350/2000, Loss: 0.006619\n",
      "Epoch 1360/2000, Loss: 0.011798\n",
      "Epoch 1370/2000, Loss: 0.011663\n",
      "Epoch 1380/2000, Loss: 0.012024\n",
      "Epoch 1390/2000, Loss: 0.008294\n",
      "Epoch 1400/2000, Loss: 0.011741\n",
      "Epoch 1410/2000, Loss: 0.007904\n",
      "Epoch 1420/2000, Loss: 0.006424\n",
      "Epoch 1430/2000, Loss: 0.012051\n",
      "Epoch 1440/2000, Loss: 0.011421\n",
      "Epoch 1450/2000, Loss: 0.005756\n",
      "Epoch 1460/2000, Loss: 0.007414\n",
      "Epoch 1470/2000, Loss: 0.010746\n",
      "Epoch 1480/2000, Loss: 0.012226\n",
      "Epoch 1490/2000, Loss: 0.010530\n",
      "Epoch 1500/2000, Loss: 0.011508\n",
      "Epoch 1510/2000, Loss: 0.007049\n",
      "Epoch 1520/2000, Loss: 0.010534\n",
      "Epoch 1530/2000, Loss: 0.012294\n",
      "Epoch 1540/2000, Loss: 0.012887\n",
      "Epoch 1550/2000, Loss: 0.007776\n",
      "Epoch 1560/2000, Loss: 0.013044\n",
      "Epoch 1570/2000, Loss: 0.012448\n",
      "Epoch 1580/2000, Loss: 0.011204\n",
      "Epoch 1590/2000, Loss: 0.007779\n",
      "Epoch 1600/2000, Loss: 0.007535\n",
      "Epoch 1610/2000, Loss: 0.005718\n",
      "Epoch 1620/2000, Loss: 0.007042\n",
      "Epoch 1630/2000, Loss: 0.008679\n",
      "Epoch 1640/2000, Loss: 0.006610\n",
      "Epoch 1650/2000, Loss: 0.011146\n",
      "Epoch 1660/2000, Loss: 0.011659\n",
      "Epoch 1670/2000, Loss: 0.011403\n",
      "Epoch 1680/2000, Loss: 0.011966\n",
      "Epoch 1690/2000, Loss: 0.011848\n",
      "Epoch 1700/2000, Loss: 0.012128\n",
      "Epoch 1710/2000, Loss: 0.007718\n",
      "Epoch 1720/2000, Loss: 0.012480\n",
      "Epoch 1730/2000, Loss: 0.007035\n",
      "Epoch 1740/2000, Loss: 0.012465\n",
      "Epoch 1750/2000, Loss: 0.006625\n",
      "Epoch 1760/2000, Loss: 0.006719\n",
      "Epoch 1770/2000, Loss: 0.008253\n",
      "Epoch 1780/2000, Loss: 0.011640\n",
      "Epoch 1790/2000, Loss: 0.006480\n",
      "Epoch 1800/2000, Loss: 0.008280\n",
      "Epoch 1810/2000, Loss: 0.007134\n",
      "Epoch 1820/2000, Loss: 0.009948\n",
      "Epoch 1830/2000, Loss: 0.012462\n",
      "Epoch 1840/2000, Loss: 0.012127\n",
      "Epoch 1850/2000, Loss: 0.012033\n",
      "Epoch 1860/2000, Loss: 0.005024\n",
      "Epoch 1870/2000, Loss: 0.011568\n",
      "Epoch 1880/2000, Loss: 0.007963\n",
      "Epoch 1890/2000, Loss: 0.007011\n",
      "Epoch 1900/2000, Loss: 0.011988\n",
      "Epoch 1910/2000, Loss: 0.011510\n",
      "Epoch 1920/2000, Loss: 0.011652\n",
      "Epoch 1930/2000, Loss: 0.008124\n",
      "Epoch 1940/2000, Loss: 0.006175\n",
      "Epoch 1950/2000, Loss: 0.011390\n",
      "Epoch 1960/2000, Loss: 0.012114\n",
      "Epoch 1970/2000, Loss: 0.012652\n",
      "Epoch 1980/2000, Loss: 0.007294\n",
      "Epoch 1990/2000, Loss: 0.011159\n",
      "Epoch 1999/2000, Loss: 0.006792\n"
     ]
    }
   ],
   "source": [
    "print(f\"=== Creating Neural Network ===\")\n",
    "nn = NeuralNetwork(layer_sizes=[4, 8, 3])\n",
    "\n",
    "print(f\"=== Training ===\")\n",
    "losses = nn.train(X_train, y_train, epochs=2000, lr=0.1, batch_size=32, verbose=True)"
   ]
  },
  {
   "cell_type": "code",
   "execution_count": 9,
   "id": "50805a1e",
   "metadata": {},
   "outputs": [
    {
     "name": "stdout",
     "output_type": "stream",
     "text": [
      "=== Results ===\n",
      "Test accuracy: 100.000%\n",
      "True: 1, Predict: 1, Probability: [2.25011282e-04 9.99688175e-01 2.58099895e-04]\n",
      "True: 0, Predict: 0, Probability: [9.99989330e-01 3.91512696e-04 8.98954194e-09]\n",
      "True: 2, Predict: 2, Probability: [5.50466693e-15 2.53492044e-10 1.00000000e+00]\n",
      "True: 1, Predict: 1, Probability: [3.45167988e-05 9.95343980e-01 3.78402916e-03]\n",
      "True: 1, Predict: 1, Probability: [5.61783802e-06 9.97041004e-01 2.81763299e-03]\n"
     ]
    }
   ],
   "source": [
    "y_pred = nn.predict(X_test)\n",
    "y_pred_labels = np.argmax(y_pred, axis=1)\n",
    "y_test_labels = np.argmax(y_test, axis=1)\n",
    "\n",
    "accuracy = np.mean(y_pred_labels == y_test_labels) * 100\n",
    "print(f\"=== Results ===\")\n",
    "print(f\"Test accuracy: {accuracy:.3f}%\")\n",
    "\n",
    "for i in range(5):\n",
    "    print(f\"True: {y_test_labels[i]}, Predict: {y_pred_labels[i]}, Probability: {y_pred[i]}\")"
   ]
  },
  {
   "cell_type": "code",
   "execution_count": 10,
   "id": "13cb5f4b",
   "metadata": {},
   "outputs": [
    {
     "data": {
      "image/png": "[encoded data removed]",
      "text/plain": [
       "<Figure size 1000x500 with 1 Axes>"
      ]
     },
     "metadata": {},
     "output_type": "display_data"
    }
   ],
   "source": [
    "plt.figure(figsize=(10, 5))\n",
    "plt.plot(losses)\n",
    "plt.xlabel(\"Epoch\")\n",
    "plt.ylabel(\"Loss\")\n",
    "plt.title(\"Training Loss - Iris Dataset\")\n",
    "plt.grid(True)\n",
    "plt.show()"
   ]
  },
  {
   "cell_type": "code",
   "execution_count": 11,
   "id": "0df9aa5b",
   "metadata": {},
   "outputs": [
    {
     "data": {
      "image/png": "[encoded data removed]",
      "text/plain": [
       "<Figure size 800x600 with 2 Axes>"
      ]
     },
     "metadata": {},
     "output_type": "display_data"
    }
   ],
   "source": [
    "# Confusion Matrix\n",
    "from sklearn.metrics import confusion_matrix\n",
    "import seaborn as sns\n",
    "\n",
    "cm = confusion_matrix(y_test_labels, y_pred_labels)\n",
    "plt.figure(figsize=(8, 6))\n",
    "sns.heatmap(cm, annot=True, fmt='d', cmap='Blues', \n",
    "            xticklabels=iris.target_names, \n",
    "            yticklabels=iris.target_names)\n",
    "plt.xlabel('Predicted')\n",
    "plt.ylabel('True')\n",
    "plt.title('Confusion Matrix')\n",
    "plt.show()"
   ]
  },
  {
   "cell_type": "code",
   "execution_count": 12,
   "id": "cc480206",
   "metadata": {},
   "outputs": [
    {
     "name": "stdout",
     "output_type": "stream",
     "text": [
      "X shape: (70000, 784)\n",
      "y shape: (70000,)\n"
     ]
    }
   ],
   "source": [
    "from sklearn.datasets import fetch_openml\n",
    "mnist = fetch_openml('mnist_784', version=1, parser='auto')\n",
    "X_mnist = mnist.data.to_numpy()\n",
    "y_mnist = mnist.target.to_numpy().astype(int)\n",
    "\n",
    "print(f\"X shape: {X_mnist.shape}\")\n",
    "print(f\"y shape: {y_mnist.shape}\")"
   ]
  },
  {
   "cell_type": "code",
   "execution_count": 13,
   "id": "b6daefeb",
   "metadata": {},
   "outputs": [
    {
     "name": "stdout",
     "output_type": "stream",
     "text": [
      "X range: [0.0, 1.0]\n",
      "y_onehot shape: (70000, 10)\n"
     ]
    }
   ],
   "source": [
    "#Normalize pixel values\n",
    "X_mnist = X_mnist / 255.0\n",
    "\n",
    "#Onehot encoding\n",
    "y_onehot = np.zeros((len(y_mnist), 10))\n",
    "for i in range(len(y_mnist)):\n",
    "    y_onehot[i, y_mnist[i]] = 1\n",
    "\n",
    "print(f\"X range: [{X_mnist.min()}, {X_mnist.max()}]\")\n",
    "print(f\"y_onehot shape: {y_onehot.shape}\")"
   ]
  },
  {
   "cell_type": "code",
   "execution_count": 14,
   "id": "a222e88e",
   "metadata": {},
   "outputs": [
    {
     "name": "stdout",
     "output_type": "stream",
     "text": [
      "\n",
      "Training set: (56000, 784)\n",
      "Test set: (14000, 784)\n"
     ]
    }
   ],
   "source": [
    "X_train, X_test, y_train, y_test = train_test_split(X_mnist, y_onehot, test_size=0.2, random_state=42)\n",
    "print(f\"\\nTraining set: {X_train.shape}\")\n",
    "print(f\"Test set: {X_test.shape}\")"
   ]
  },
  {
   "cell_type": "code",
   "execution_count": 46,
   "id": "8b391b75",
   "metadata": {},
   "outputs": [
    {
     "name": "stdout",
     "output_type": "stream",
     "text": [
      "\n",
      "=== Creating Neural Network ===\n",
      "    Created weights from layer 0 to 1 with shape: (784, 128)\n",
      "    Created biases for layer 1 with shape: (1, 128)\n",
      "    Created weights from layer 1 to 2 with shape: (128, 64)\n",
      "    Created biases for layer 2 with shape: (1, 64)\n",
      "    Created weights from layer 2 to 3 with shape: (64, 10)\n",
      "    Created biases for layer 3 with shape: (1, 10)\n",
      "\n",
      "=== Training ===\n",
      "Epoch 0/100, Loss: 0.251171\n",
      "Epoch 10/100, Loss: 0.181201\n",
      "Epoch 20/100, Loss: 0.132423\n",
      "Epoch 30/100, Loss: 0.106243\n",
      "Epoch 40/100, Loss: 0.096502\n",
      "Epoch 50/100, Loss: 0.092717\n",
      "Epoch 60/100, Loss: 0.090763\n",
      "Epoch 70/100, Loss: 0.089402\n",
      "Epoch 80/100, Loss: 0.088238\n",
      "Epoch 90/100, Loss: 0.087135\n",
      "Epoch 99/100, Loss: 0.086150\n"
     ]
    }
   ],
   "source": [
    "print(\"\\n=== Creating Neural Network ===\")\n",
    "nn_mnist = NeuralNetwork(layer_sizes=[784, 128, 64, 10], use_gpu=True)\n",
    "print(\"\\n=== Training ===\")\n",
    "losses = nn_mnist.train(X_train, y_train, epochs=100, lr=0.005, verbose=True)"
   ]
  },
  {
   "cell_type": "code",
   "execution_count": 47,
   "id": "c0cd8bdb",
   "metadata": {},
   "outputs": [
    {
     "name": "stdout",
     "output_type": "stream",
     "text": [
      "Accuracy: 35.6500%\n"
     ]
    }
   ],
   "source": [
    "y_pred = nn_mnist.predict(X_test)\n",
    "y_pred_labels = np.argmax(y_pred, axis=1)\n",
    "y_test_labels = np.argmax(y_test, axis=1)\n",
    "\n",
    "accuracy = np.mean(y_pred_labels == y_test_labels) * 100\n",
    "print(f\"Accuracy: {accuracy:.4f}%\")"
   ]
  },
  {
   "cell_type": "code",
   "execution_count": 26,
   "id": "7696262f",
   "metadata": {},
   "outputs": [
    {
     "data": {
      "image/png": "[encoded data removed]",
      "text/plain": [
       "<Figure size 1000x500 with 1 Axes>"
      ]
     },
     "metadata": {},
     "output_type": "display_data"
    }
   ],
   "source": [
    "plt.figure(figsize=(10, 5))\n",
    "plt.plot(losses)\n",
    "plt.xlabel('Epoch')\n",
    "plt.ylabel('Loss (MSE)')\n",
    "plt.title('Training Loss - MNIST Dataset')  \n",
    "plt.grid(True)\n",
    "plt.show()"
   ]
  },
  {
   "cell_type": "code",
   "execution_count": 51,
   "id": "51707152",
   "metadata": {},
   "outputs": [
    {
     "name": "stdout",
     "output_type": "stream",
     "text": [
      "\n",
      "=== Creating Neural Network ===\n",
      "    Created weights from layer 0 to 1 with shape: (784, 128)\n",
      "    Created biases for layer 1 with shape: (1, 128)\n",
      "    Created weights from layer 1 to 2 with shape: (128, 64)\n",
      "    Created biases for layer 2 with shape: (1, 64)\n",
      "    Created weights from layer 2 to 3 with shape: (64, 10)\n",
      "    Created biases for layer 3 with shape: (1, 10)\n",
      "\n",
      "=== Training ===\n",
      "Epoch 0/100, Loss: 0.076415\n",
      "Epoch 10/100, Loss: 0.014932\n",
      "Epoch 20/100, Loss: 0.011212\n",
      "Epoch 30/100, Loss: 0.009181\n",
      "Epoch 40/100, Loss: 0.007815\n",
      "Epoch 50/100, Loss: 0.006788\n",
      "Epoch 60/100, Loss: 0.006011\n",
      "Epoch 70/100, Loss: 0.005372\n",
      "Epoch 80/100, Loss: 0.004861\n",
      "Epoch 90/100, Loss: 0.004420\n",
      "Epoch 99/100, Loss: 0.004093\n"
     ]
    }
   ],
   "source": [
    "print(\"\\n=== Creating Neural Network ===\")\n",
    "nn_mnist_minibatch = NeuralNetwork(layer_sizes=[784, 128, 64, 10], use_gpu=True, activation_method='relu')\n",
    "print(\"\\n=== Training ===\")\n",
    "losses = nn_mnist_minibatch.train(X_train, y_train, epochs=100, batch_size=128, lr=0.005, activation_method='relu', verbose=True)"
   ]
  },
  {
   "cell_type": "markdown",
   "id": "c36419b6",
   "metadata": {},
   "source": [
    "nn_mnist_minibatch = NeuralNetwork(layer_sizes=[784, 128, 64, 10], use_gpu=True, activation_method='relu')\n",
    "losses = nn_mnist_minibatch.train(X_train, y_train, epochs=100, batch_size=128, lr=0.005, activation_method='relu', verbose=True)\n",
    "==> accuracy: 96.7857%"
   ]
  },
  {
   "cell_type": "code",
   "execution_count": 52,
   "id": "ed272360",
   "metadata": {},
   "outputs": [
    {
     "name": "stdout",
     "output_type": "stream",
     "text": [
      "Accuracy: 96.7857%\n"
     ]
    }
   ],
   "source": [
    "y_pred = nn_mnist_minibatch.predict(X_test)\n",
    "y_pred_labels = np.argmax(y_pred, axis=1)\n",
    "y_test_labels = np.argmax(y_test, axis=1)\n",
    "\n",
    "accuracy = np.mean(y_pred_labels == y_test_labels) * 100\n",
    "print(f\"Accuracy: {accuracy:.4f}%\")"
   ]
  },
  {
   "cell_type": "code",
   "execution_count": 36,
   "id": "38505b3f",
   "metadata": {},
   "outputs": [
    {
     "data": {
      "image/png": "[encoded data removed]",
      "text/plain": [
       "<Figure size 1000x500 with 1 Axes>"
      ]
     },
     "metadata": {},
     "output_type": "display_data"
    }
   ],
   "source": [
    "plt.figure(figsize=(10, 5))\n",
    "plt.plot(losses)\n",
    "plt.xlabel('Epoch')\n",
    "plt.ylabel('Loss (MSE)')\n",
    "plt.title('Training Loss - MNIST Dataset (Minibatch)')\n",
    "plt.grid(True)\n",
    "plt.show()"
   ]
  },
  {
   "cell_type": "code",
   "execution_count": null,
   "id": "6e5b482e",
   "metadata": {},
   "outputs": [],
   "source": [
    "\n",
    "cm = confusion_matrix(y_test_labels, y_pred_labels)\n",
    "sns.heatmap(cm, annot=True, fmt='d', cmap='Blues', \n",
    "            xticklabels=range(10), yticklabels=range(10))\n",
    "plt.xlabel('ed Label')\n",
    "plt.ylabel('True Label')\n",
    "plt.title(f'Confusion Matrix - Accuracy: {accuracy:.2f}%')\n",
    "plt.show()"
   ]
  },
  {
   "cell_type": "code",
   "execution_count": null,
   "id": "976ad773",
   "metadata": {},
   "outputs": [],
   "source": [
    "print(\"\\n=== Per-Digit Accuracy ===\")\n",
    "for digit in range(10):\n",
    "    mask = y_test_labels == digit\n",
    "    digit_acc = np.mean(y_pred_labels[mask] == digit) * 100\n",
    "    print(f\"Digit {digit}: {digit_acc:.2f}%\")"
   ]
  },
  {
   "cell_type": "code",
   "execution_count": null,
   "id": "7343b924",
   "metadata": {},
   "outputs": [],
   "source": []
  }
 ],
 "metadata": {
  "kernelspec": {
   "display_name": "Python 3 (ipykernel)",
   "language": "python",
   "name": "python3"
  },
  "language_info": {
   "codemirror_mode": {
    "name": "ipython",
    "version": 3
   },
   "file_extension": ".py",
   "mimetype": "text/x-python",
   "name": "python",
   "nbconvert_exporter": "python",
   "pygments_lexer": "ipython3",
   "version": "3.9.23"
  }
 },
 "nbformat": 4,
 "nbformat_minor": 5
}
